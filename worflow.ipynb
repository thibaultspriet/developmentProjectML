{
 "cells": [
  {
   "cell_type": "markdown",
   "metadata": {},
   "source": [
    "# Application of our Workflow onto two datasets"
   ]
  },
  {
   "cell_type": "code",
   "execution_count": 43,
   "metadata": {},
   "outputs": [],
   "source": [
    "# Import useful functions and librairies\n",
    "from functions import * #clean_file, normalize_data, train_test, trainSVM,getDataLabels,confusionMatrix,testSVM, validateModel, trainLogisticRegression, crossValidationProcedure, testLogReg\n",
    "import numpy as np\n",
    "%matplotlib inline"
   ]
  },
  {
   "cell_type": "code",
   "execution_count": 44,
   "metadata": {},
   "outputs": [],
   "source": [
    "# Path to our datasets\n",
    "BANKNOTE = \"./data_banknote_authentication.txt\"\n",
    "KIDNEY = \"./kidney_disease.csv\""
   ]
  },
  {
   "cell_type": "markdown",
   "metadata": {},
   "source": [
    "## 1. Load and clean data\n",
    "* Load and clean data\n",
    "* Center and normalize data"
   ]
  },
  {
   "cell_type": "code",
   "execution_count": 45,
   "metadata": {},
   "outputs": [
    {
     "name": "stdout",
     "output_type": "stream",
     "text": [
      "---START CLEANING :  ./data_banknote_authentication.txt ---\n",
      "Toutes les valeurs manquantes ont été remplacées\n",
      "La table est normalisée\n",
      "---END CLEANING : ./data_banknote_authentication.txt ---\n",
      "\n",
      "---START CLEANING :  ./kidney_disease.csv ---\n",
      "Toutes les valeurs manquantes ont été remplacées\n",
      "La table est normalisée\n",
      "---END CLEANING : ./kidney_disease.csv ---\n",
      "\n"
     ]
    }
   ],
   "source": [
    "banknote = clean_file(BANKNOTE)\n",
    "kidney = clean_file(KIDNEY)"
   ]
  },
  {
   "cell_type": "code",
   "execution_count": 46,
   "metadata": {},
   "outputs": [
    {
     "data": {
      "text/html": [
       "<div>\n",
       "<style scoped>\n",
       "    .dataframe tbody tr th:only-of-type {\n",
       "        vertical-align: middle;\n",
       "    }\n",
       "\n",
       "    .dataframe tbody tr th {\n",
       "        vertical-align: top;\n",
       "    }\n",
       "\n",
       "    .dataframe thead th {\n",
       "        text-align: right;\n",
       "    }\n",
       "</style>\n",
       "<table border=\"1\" class=\"dataframe\">\n",
       "  <thead>\n",
       "    <tr style=\"text-align: right;\">\n",
       "      <th></th>\n",
       "      <th>0</th>\n",
       "      <th>1</th>\n",
       "      <th>2</th>\n",
       "      <th>3</th>\n",
       "      <th>4</th>\n",
       "    </tr>\n",
       "  </thead>\n",
       "  <tbody>\n",
       "    <tr>\n",
       "      <th>mean</th>\n",
       "      <td>-2.358010e-16</td>\n",
       "      <td>-9.880338e-17</td>\n",
       "      <td>-3.130392e-16</td>\n",
       "      <td>-3.547535e-16</td>\n",
       "      <td>0.444606</td>\n",
       "    </tr>\n",
       "    <tr>\n",
       "      <th>std</th>\n",
       "      <td>1.000000e+00</td>\n",
       "      <td>1.000000e+00</td>\n",
       "      <td>1.000000e+00</td>\n",
       "      <td>1.000000e+00</td>\n",
       "      <td>0.497103</td>\n",
       "    </tr>\n",
       "  </tbody>\n",
       "</table>\n",
       "</div>"
      ],
      "text/plain": [
       "                 0             1             2             3         4\n",
       "mean -2.358010e-16 -9.880338e-17 -3.130392e-16 -3.547535e-16  0.444606\n",
       "std   1.000000e+00  1.000000e+00  1.000000e+00  1.000000e+00  0.497103"
      ]
     },
     "execution_count": 46,
     "metadata": {},
     "output_type": "execute_result"
    }
   ],
   "source": [
    "banknote.describe().loc[['mean','std'],:]"
   ]
  },
  {
   "cell_type": "code",
   "execution_count": 47,
   "metadata": {},
   "outputs": [
    {
     "data": {
      "text/html": [
       "<div>\n",
       "<style scoped>\n",
       "    .dataframe tbody tr th:only-of-type {\n",
       "        vertical-align: middle;\n",
       "    }\n",
       "\n",
       "    .dataframe tbody tr th {\n",
       "        vertical-align: top;\n",
       "    }\n",
       "\n",
       "    .dataframe thead th {\n",
       "        text-align: right;\n",
       "    }\n",
       "</style>\n",
       "<table border=\"1\" class=\"dataframe\">\n",
       "  <thead>\n",
       "    <tr style=\"text-align: right;\">\n",
       "      <th></th>\n",
       "      <th>id</th>\n",
       "      <th>age</th>\n",
       "      <th>bp</th>\n",
       "      <th>sg</th>\n",
       "      <th>al</th>\n",
       "      <th>su</th>\n",
       "      <th>rbc</th>\n",
       "      <th>pc</th>\n",
       "      <th>pcc</th>\n",
       "      <th>ba</th>\n",
       "      <th>...</th>\n",
       "      <th>pcv</th>\n",
       "      <th>wc</th>\n",
       "      <th>rc</th>\n",
       "      <th>htn</th>\n",
       "      <th>dm</th>\n",
       "      <th>cad</th>\n",
       "      <th>appet</th>\n",
       "      <th>pe</th>\n",
       "      <th>ane</th>\n",
       "      <th>classification</th>\n",
       "    </tr>\n",
       "  </thead>\n",
       "  <tbody>\n",
       "    <tr>\n",
       "      <th>mean</th>\n",
       "      <td>199.500000</td>\n",
       "      <td>-6.211698e-16</td>\n",
       "      <td>7.187306e-16</td>\n",
       "      <td>1.446767e-12</td>\n",
       "      <td>2.770006e-16</td>\n",
       "      <td>1.044165e-15</td>\n",
       "      <td>0.117500</td>\n",
       "      <td>0.190000</td>\n",
       "      <td>0.105000</td>\n",
       "      <td>0.055000</td>\n",
       "      <td>...</td>\n",
       "      <td>15.722500</td>\n",
       "      <td>25.900000</td>\n",
       "      <td>14.690000</td>\n",
       "      <td>0.632500</td>\n",
       "      <td>0.65750</td>\n",
       "      <td>0.085000</td>\n",
       "      <td>0.205000</td>\n",
       "      <td>0.190000</td>\n",
       "      <td>0.150000</td>\n",
       "      <td>0.375000</td>\n",
       "    </tr>\n",
       "    <tr>\n",
       "      <th>std</th>\n",
       "      <td>115.614301</td>\n",
       "      <td>1.000000e+00</td>\n",
       "      <td>1.000000e+00</td>\n",
       "      <td>1.000000e+00</td>\n",
       "      <td>1.000000e+00</td>\n",
       "      <td>1.000000e+00</td>\n",
       "      <td>0.322418</td>\n",
       "      <td>0.392792</td>\n",
       "      <td>0.306937</td>\n",
       "      <td>0.228266</td>\n",
       "      <td>...</td>\n",
       "      <td>10.905863</td>\n",
       "      <td>23.970533</td>\n",
       "      <td>16.030325</td>\n",
       "      <td>0.482728</td>\n",
       "      <td>0.47514</td>\n",
       "      <td>0.279231</td>\n",
       "      <td>0.404207</td>\n",
       "      <td>0.392792</td>\n",
       "      <td>0.357519</td>\n",
       "      <td>0.484729</td>\n",
       "    </tr>\n",
       "  </tbody>\n",
       "</table>\n",
       "<p>2 rows × 26 columns</p>\n",
       "</div>"
      ],
      "text/plain": [
       "              id           age            bp            sg            al  \\\n",
       "mean  199.500000 -6.211698e-16  7.187306e-16  1.446767e-12  2.770006e-16   \n",
       "std   115.614301  1.000000e+00  1.000000e+00  1.000000e+00  1.000000e+00   \n",
       "\n",
       "                su       rbc        pc       pcc        ba       ...        \\\n",
       "mean  1.044165e-15  0.117500  0.190000  0.105000  0.055000       ...         \n",
       "std   1.000000e+00  0.322418  0.392792  0.306937  0.228266       ...         \n",
       "\n",
       "            pcv         wc         rc       htn       dm       cad     appet  \\\n",
       "mean  15.722500  25.900000  14.690000  0.632500  0.65750  0.085000  0.205000   \n",
       "std   10.905863  23.970533  16.030325  0.482728  0.47514  0.279231  0.404207   \n",
       "\n",
       "            pe       ane  classification  \n",
       "mean  0.190000  0.150000        0.375000  \n",
       "std   0.392792  0.357519        0.484729  \n",
       "\n",
       "[2 rows x 26 columns]"
      ]
     },
     "execution_count": 47,
     "metadata": {},
     "output_type": "execute_result"
    }
   ],
   "source": [
    "kidney.describe().loc[['mean','std'],:]"
   ]
  },
  {
   "cell_type": "markdown",
   "metadata": {},
   "source": [
    "We can see that numerical values are centered (mean = 0) and normalized (std = 1)"
   ]
  },
  {
   "cell_type": "markdown",
   "metadata": {},
   "source": [
    "## 2. Split data into train and test"
   ]
  },
  {
   "cell_type": "code",
   "execution_count": 48,
   "metadata": {},
   "outputs": [],
   "source": [
    "KIDNEY_DATA,KIDNEY_LABEL = getDataLabels(kidney)\n",
    "BANKNOTE_DATA,BANKNOTE_LABEL = getDataLabels(banknote)"
   ]
  },
  {
   "cell_type": "code",
   "execution_count": 49,
   "metadata": {},
   "outputs": [],
   "source": [
    "K_X_train,K_X_test,K_y_train,K_y_test = train_test(KIDNEY_DATA,KIDNEY_LABEL,.3,False)\n",
    "B_X_train,B_X_test,B_y_train,B_y_test = train_test(BANKNOTE_DATA,BANKNOTE_LABEL,.3,False)"
   ]
  },
  {
   "cell_type": "markdown",
   "metadata": {},
   "source": [
    "## 3. Train models"
   ]
  },
  {
   "cell_type": "code",
   "execution_count": 50,
   "metadata": {},
   "outputs": [],
   "source": [
    "K_SVM = trainSVM(K_X_train,K_y_train)\n",
    "B_SVM = trainSVM(B_X_train,B_y_train)\n"
   ]
  },
  {
   "cell_type": "code",
   "execution_count": 51,
   "metadata": {},
   "outputs": [],
   "source": [
    "\n",
    "K_LOGISTIC = trainLogisticRegression(K_X_train,K_y_train)\n",
    "B_LOGISTIC = trainLogisticRegression(B_X_train,B_y_train)"
   ]
  },
  {
   "cell_type": "code",
   "execution_count": 52,
   "metadata": {},
   "outputs": [],
   "source": [
    "K_DF = trainDecisionForest(K_X_train,K_y_train, 100)\n",
    "B_DF = trainDecisionForest(B_X_train,B_y_train, 100)\n",
    "\n",
    "K_AB = trainAdaBoost(K_X_train,K_y_train, 100)\n",
    "B_AB = trainAdaBoost(B_X_train,B_y_train, 100)"
   ]
  },
  {
   "cell_type": "markdown",
   "metadata": {},
   "source": [
    "## 4. Cross Validation"
   ]
  },
  {
   "cell_type": "code",
   "execution_count": 53,
   "metadata": {},
   "outputs": [
    {
     "name": "stdout",
     "output_type": "stream",
     "text": [
      "best kernel = linear\n",
      "best kernel = rbf\n"
     ]
    }
   ],
   "source": [
    "K_SVM = crossValidationProcedure(K_SVM,K_X_train,K_y_train,\"kernel\",[\"linear\",\"poly\",\"rbf\",\"sigmoid\"])\n",
    "B_SVM = crossValidationProcedure(B_SVM,B_X_train,B_y_train,\"kernel\",[\"linear\",\"poly\",\"rbf\",\"sigmoid\"])"
   ]
  },
  {
   "cell_type": "markdown",
   "metadata": {},
   "source": [
    "## 5. Test models"
   ]
  },
  {
   "cell_type": "code",
   "execution_count": 54,
   "metadata": {},
   "outputs": [
    {
     "ename": "NameError",
     "evalue": "name 'KMeans' is not defined",
     "output_type": "error",
     "traceback": [
      "\u001b[0;31m---------------------------------------------------------------------------\u001b[0m",
      "\u001b[0;31mNameError\u001b[0m                                 Traceback (most recent call last)",
      "\u001b[0;32m<ipython-input-54-dcf49b1f3b6f>\u001b[0m in \u001b[0;36m<module>\u001b[0;34m()\u001b[0m\n\u001b[1;32m     11\u001b[0m \u001b[0mB_AB_pred\u001b[0m \u001b[0;34m=\u001b[0m \u001b[0mtestAdaBoost\u001b[0m\u001b[0;34m(\u001b[0m\u001b[0mB_AB\u001b[0m\u001b[0;34m,\u001b[0m \u001b[0mB_X_test\u001b[0m\u001b[0;34m)\u001b[0m\u001b[0;34m\u001b[0m\u001b[0m\n\u001b[1;32m     12\u001b[0m \u001b[0;34m\u001b[0m\u001b[0m\n\u001b[0;32m---> 13\u001b[0;31m \u001b[0mK_KM_pred\u001b[0m \u001b[0;34m=\u001b[0m \u001b[0mtestKmeans\u001b[0m\u001b[0;34m(\u001b[0m\u001b[0mK_X_train\u001b[0m\u001b[0;34m,\u001b[0m \u001b[0mK_y_train\u001b[0m\u001b[0;34m,\u001b[0m \u001b[0mK_X_test\u001b[0m\u001b[0;34m)\u001b[0m\u001b[0;34m\u001b[0m\u001b[0m\n\u001b[0m\u001b[1;32m     14\u001b[0m \u001b[0mB_KM_pred\u001b[0m \u001b[0;34m=\u001b[0m \u001b[0mtestKmeans\u001b[0m\u001b[0;34m(\u001b[0m\u001b[0mB_X_train\u001b[0m\u001b[0;34m,\u001b[0m \u001b[0mB_y_train\u001b[0m\u001b[0;34m,\u001b[0m \u001b[0mB_X_test\u001b[0m\u001b[0;34m)\u001b[0m\u001b[0;34m\u001b[0m\u001b[0m\n",
      "\u001b[0;32m~/Desktop/école/UEA Introdution to machine learning/PROJET ML/developmentProjectML/functions.py\u001b[0m in \u001b[0;36mtestKmeans\u001b[0;34m(X_train, y_train, X_test)\u001b[0m\n\u001b[1;32m    426\u001b[0m \u001b[0;34m\u001b[0m\u001b[0m\n\u001b[1;32m    427\u001b[0m     \u001b[0;31m# Kmeans algorithm on the whole dataset\u001b[0m\u001b[0;34m\u001b[0m\u001b[0;34m\u001b[0m\u001b[0m\n\u001b[0;32m--> 428\u001b[0;31m     \u001b[0mX\u001b[0m \u001b[0;34m=\u001b[0m \u001b[0mnp\u001b[0m\u001b[0;34m.\u001b[0m\u001b[0mconcatenate\u001b[0m\u001b[0;34m(\u001b[0m\u001b[0;34m(\u001b[0m\u001b[0mX_train\u001b[0m\u001b[0;34m,\u001b[0m \u001b[0mX_test\u001b[0m\u001b[0;34m)\u001b[0m\u001b[0;34m)\u001b[0m\u001b[0;34m\u001b[0m\u001b[0m\n\u001b[0m\u001b[1;32m    429\u001b[0m     \u001b[0mkmeans\u001b[0m \u001b[0;34m=\u001b[0m \u001b[0mKMeans\u001b[0m\u001b[0;34m(\u001b[0m\u001b[0mn_clusters\u001b[0m\u001b[0;34m=\u001b[0m\u001b[0;36m2\u001b[0m\u001b[0;34m)\u001b[0m\u001b[0;34m.\u001b[0m\u001b[0mfit\u001b[0m\u001b[0;34m(\u001b[0m\u001b[0mX\u001b[0m\u001b[0;34m)\u001b[0m\u001b[0;34m\u001b[0m\u001b[0m\n\u001b[1;32m    430\u001b[0m     \u001b[0mlab\u001b[0m \u001b[0;34m=\u001b[0m \u001b[0mkmeans\u001b[0m\u001b[0;34m.\u001b[0m\u001b[0mlabels_\u001b[0m\u001b[0;34m\u001b[0m\u001b[0m\n",
      "\u001b[0;31mNameError\u001b[0m: name 'KMeans' is not defined"
     ]
    }
   ],
   "source": [
    "K_SVM_pred = testSVM(K_SVM,K_X_test)\n",
    "B_SVM_pred = testSVM(B_SVM,B_X_test)\n",
    "\n",
    "K_LOGISTIC_pred = testLogReg(K_LOGISTIC,K_X_test)\n",
    "B_LOGISTIC_pred = testLogReg(B_LOGISTIC,B_X_test)\n",
    "\n",
    "K_DF_pred = testDecisionForest(K_DF, K_X_test)\n",
    "B_DF_pred = testDecisionForest(B_DF, B_X_test)\n",
    "\n",
    "K_AB_pred = testAdaBoost(K_AB, K_X_test)\n",
    "B_AB_pred = testAdaBoost(B_AB, B_X_test)\n",
    "\n",
    "K_KM_pred = testKmeans(K_X_train, K_y_train, K_X_test)\n",
    "B_KM_pred = testKmeans(B_X_train, B_y_train, B_X_test)"
   ]
  },
  {
   "cell_type": "markdown",
   "metadata": {},
   "source": [
    "## 6. Validate models"
   ]
  },
  {
   "cell_type": "code",
   "execution_count": null,
   "metadata": {},
   "outputs": [],
   "source": [
    "# Kidney SVM\n",
    "confusionMatrix(K_y_test,K_SVM_pred,title=\"Confusion Matrix\\nKydney-SVM\")\n",
    "validateModel(K_y_test,K_SVM_pred)"
   ]
  },
  {
   "cell_type": "code",
   "execution_count": null,
   "metadata": {},
   "outputs": [],
   "source": [
    "# Kidney Logistic\n",
    "confusionMatrix(K_y_test,K_LOGISTIC_pred,title=\"Confusion Matrix\\nKidney-Logistic Regression\")\n",
    "validateModel(K_y_test,K_LOGISTIC_pred)"
   ]
  },
  {
   "cell_type": "code",
   "execution_count": null,
   "metadata": {},
   "outputs": [],
   "source": [
    "# Kidney Decision Forest\n",
    "confusionMatrix(K_y_test,K_DF_pred,title=\"Confusion Matrix\\nKidney-Decision Forest\")\n",
    "validateModel(K_y_test,K_DF_pred)"
   ]
  },
  {
   "cell_type": "code",
   "execution_count": null,
   "metadata": {},
   "outputs": [],
   "source": [
    "# Kidney Ada Boost\n",
    "confusionMatrix(K_y_test,K_AB_pred,title=\"Confusion Matrix\\nKidney-Ada Boost\")\n",
    "validateModel(K_y_test,K_AB_pred)"
   ]
  },
  {
   "cell_type": "code",
   "execution_count": null,
   "metadata": {},
   "outputs": [],
   "source": [
    "# Kidney K-Means\n",
    "# confusionMatrix(K_y_test,K_LOGISTIC_pred,title=\"Confusion Matrix\") → EST CE QU'ON PEUT L'APPLIQUER SUR KMEANS ??\n",
    "validateModel(K_y_test,K_KM_pred)"
   ]
  },
  {
   "cell_type": "code",
   "execution_count": null,
   "metadata": {},
   "outputs": [],
   "source": [
    "# Banknote SVM\n",
    "confusionMatrix(B_y_test,B_SVM_pred,title=\"Confusion Matrix\\nBanknote-SVM\")\n",
    "validateModel(B_y_test,B_SVM_pred)"
   ]
  },
  {
   "cell_type": "code",
   "execution_count": null,
   "metadata": {},
   "outputs": [],
   "source": [
    "# Banknote Logistic\n",
    "confusionMatrix(B_y_test,B_LOGISTIC_pred,title=\"Confusion Matrix\\nBanknote-Logistic Regression\")\n",
    "validateModel(B_y_test,B_LOGISTIC_pred)"
   ]
  },
  {
   "cell_type": "code",
   "execution_count": null,
   "metadata": {},
   "outputs": [],
   "source": [
    "# Banknote Decision Forest\n",
    "confusionMatrix(B_y_test,B_DF_pred,title=\"Confusion Matrix\\nBanknote-Decision Forest\")\n",
    "validateModel(B_y_test,B_DF_pred)"
   ]
  },
  {
   "cell_type": "code",
   "execution_count": null,
   "metadata": {},
   "outputs": [],
   "source": [
    "# Banknote Ada Boost\n",
    "confusionMatrix(B_y_test,B_AB_pred,title=\"Confusion Matrix\\nBanknote-Ada Boost\")\n",
    "validateModel(B_y_test,B_AB_pred)"
   ]
  },
  {
   "cell_type": "code",
   "execution_count": null,
   "metadata": {},
   "outputs": [],
   "source": [
    "# Banknote K-Means\n",
    "validateModel(B_y_test,B_KM_pred)"
   ]
  },
  {
   "cell_type": "code",
   "execution_count": null,
   "metadata": {},
   "outputs": [],
   "source": []
  }
 ],
 "metadata": {
  "kernelspec": {
   "display_name": "Python 3",
   "language": "python",
   "name": "python3"
  },
  "language_info": {
   "codemirror_mode": {
    "name": "ipython",
    "version": 3
   },
   "file_extension": ".py",
   "mimetype": "text/x-python",
   "name": "python",
   "nbconvert_exporter": "python",
   "pygments_lexer": "ipython3",
   "version": "3.6.4"
  }
 },
 "nbformat": 4,
 "nbformat_minor": 2
}
